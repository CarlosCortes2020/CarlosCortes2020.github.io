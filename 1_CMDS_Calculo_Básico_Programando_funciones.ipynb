{
  "nbformat": 4,
  "nbformat_minor": 0,
  "metadata": {
    "colab": {
      "name": "1- CMDS: Calculo Básico-Programando funciones.ipynb",
      "provenance": [],
      "collapsed_sections": [],
      "include_colab_link": true
    },
    "kernelspec": {
      "name": "python3",
      "display_name": "Python 3"
    }
  },
  "cells": [
    {
      "cell_type": "markdown",
      "metadata": {
        "id": "view-in-github",
        "colab_type": "text"
      },
      "source": [
        "<a href=\"https://colab.research.google.com/github/CarlosCortes2020/CarlosCortes2020.github.io/blob/master/1_CMDS_Calculo_B%C3%A1sico_Programando_funciones.ipynb\" target=\"_parent\"><img src=\"https://colab.research.google.com/assets/colab-badge.svg\" alt=\"Open In Colab\"/></a>"
      ]
    },
    {
      "cell_type": "markdown",
      "metadata": {
        "id": "vH4sOMr9N-1O"
      },
      "source": [
        "### Librerías\n"
      ]
    },
    {
      "cell_type": "code",
      "metadata": {
        "id": "_eH8kVUMMmkK"
      },
      "source": [
        "import matplotlib.pyplot as plt   # librería para graficar\n",
        "import numpy as np                # librería para manejo de vectores y utilidades matemáticas"
      ],
      "execution_count": null,
      "outputs": []
    },
    {
      "cell_type": "markdown",
      "metadata": {
        "id": "-y2aX5rENwhH"
      },
      "source": [
        "# Funciones algebraicas"
      ]
    },
    {
      "cell_type": "markdown",
      "metadata": {
        "id": "2yBuQZflF0UX"
      },
      "source": [
        "### Función lineal\n",
        "\n",
        "Tiene la forma de $$f(x)=mx + b$$ donde $m$ y $b$  $\\in R$. \n",
        "\n",
        "$m$ puede ser calculada por: $$m=\\frac{y_{2}-y_{1}}{x_{2}-x_{1}}$$\n",
        "\n",
        "y $b$ es el punto de corte con el eje $y$. Su dominio es $Dom_{f} = (-\\infty, \\infty)$. Su imagen es $Im_{f} = (-\\infty, \\infty)$\n",
        "\n",
        "\n"
      ]
    },
    {
      "cell_type": "code",
      "metadata": {
        "id": "n3vMv_IGHGpy",
        "colab": {
          "base_uri": "https://localhost:8080/",
          "height": 282
        },
        "outputId": "dda03a3c-87fb-4374-fb88-57ebdc0a4f7e"
      },
      "source": [
        "def f(m,x,b):\n",
        "  return m*x + b  #Ecuacion de la recta\n",
        "\n",
        "res = 100         #Resolucion de la grafica\n",
        "\n",
        "m = 1            #Pendiente de la recta\n",
        "\n",
        "b = 5             #Corte en eje y\n",
        "\n",
        "x = np.linspace(-10, 10,num=res)   #Genera grid\n",
        "\n",
        "y = f(m,x,b)\n",
        "\n",
        "fig, ax = plt.subplots()  #Genera area de dibujo\n",
        "\n",
        "ax.plot(x,y)\n",
        "ax.grid()\n",
        "\n",
        "ax.axhline(y=0, color=\"r\")  #Dibuja linea de eje y\n",
        "ax.axvline(x=0, color=\"r\")  #Dibuja linea de eje x\n",
        "\n",
        "\n",
        "\n"
      ],
      "execution_count": null,
      "outputs": [
        {
          "output_type": "execute_result",
          "data": {
            "text/plain": [
              "<matplotlib.lines.Line2D at 0x7f4aa9432590>"
            ]
          },
          "metadata": {
            "tags": []
          },
          "execution_count": 5
        },
        {
          "output_type": "display_data",
          "data": {
            "image/png": "[encoded data removed]",
            "text/plain": [
              "<Figure size 432x288 with 1 Axes>"
            ]
          },
          "metadata": {
            "tags": [],
            "needs_background": "light"
          }
        }
      ]
    },
    {
      "cell_type": "markdown",
      "metadata": {
        "id": "FflFWNqjJCuO"
      },
      "source": [
        "### Función Polinómicas\n",
        "\n",
        "Tiene la forma de $$P(x)=a_{n}x^{n} + a_{n-1}x^{n-1}+...+a_{2}x^{2}+a_{1}x + a_{1}$$\n",
        "\n",
        "a una función que tiene esta forma se le llama polinomio de grado $n$. A los elementos $a$ los llamaremoc coeficientes donde $a \\in R$. \n",
        "\n",
        "**Por ejemplo:**\n",
        "\n",
        "$$P(x)= 2x^{7} - x^{4} + 3x^{2} + 4$$\n",
        "\n",
        "que es un polinómio de grado 7.\n",
        "\n",
        "\n",
        "### Funciones potencia\n",
        "\n",
        "Hay unas funciones que son un caso particular de las funciones polinómicas que son las funciones potencia, las cuales tienen la forma:\n",
        "\n",
        "\n",
        "$$f(x)= x^{a}, a \\in R$$ \n",
        "\n",
        "\n",
        "**Por ejemplo:**\n",
        "\n",
        "$$f(x)= x^{2}$$\n",
        "\n",
        "El dominio de $f(x)=x^{2}$ es $Dom_{f} = (-\\infty, \\infty)$. Su imagen es $Im_{f} = [0, \\infty)$\n",
        "\n",
        "\n",
        "\n"
      ]
    },
    {
      "cell_type": "code",
      "metadata": {
        "id": "v5EI228kb6NK",
        "colab": {
          "base_uri": "https://localhost:8080/",
          "height": 293
        },
        "outputId": "c939aeda-ff82-404a-cc1a-292dfdf23db9"
      },
      "source": [
        "def f(x):\n",
        "  return 2*x**7 - x**4 + 3*x**2 + 4       #Ecuacion \n",
        "\n",
        "def g(x):\n",
        "  return 2*x**7\n",
        "\n",
        "res = 100         #Resolucion de la grafica\n",
        "\n",
        "x = np.linspace(-10, 10,num=res)   #Genera grid\n",
        "\n",
        "y = f(x)\n",
        "g = g(x)\n",
        "\n",
        "fig, ax = plt.subplots()  #Genera area de dibujo\n",
        "\n",
        "ax.plot(x,y)\n",
        "ax.grid()\n",
        "        \n",
        "ax.axhline(y=0, color=\"r\")  #Dibuja linea de eje y\n",
        "ax.axvline(x=0, color=\"r\")  #Dibuja linea de eje x\n"
      ],
      "execution_count": null,
      "outputs": [
        {
          "output_type": "execute_result",
          "data": {
            "text/plain": [
              "<matplotlib.lines.Line2D at 0x7f4aa043afd0>"
            ]
          },
          "metadata": {
            "tags": []
          },
          "execution_count": 38
        },
        {
          "output_type": "display_data",
          "data": {
            "image/png": "[encoded data removed]",
            "text/plain": [
              "<Figure size 432x288 with 1 Axes>"
            ]
          },
          "metadata": {
            "tags": [],
            "needs_background": "light"
          }
        }
      ]
    },
    {
      "cell_type": "markdown",
      "metadata": {
        "id": "K6HsXY0OmJK8"
      },
      "source": [
        "# Funciones trascendentes\n",
        "\n",
        "Son funciones que no pueden ser expresadas con polinomios. "
      ]
    },
    {
      "cell_type": "markdown",
      "metadata": {
        "id": "5-SPisguvJOv"
      },
      "source": [
        "### Funciones trigonométricas\n",
        "\n",
        "Algunos ejemplos son las funciones $cos(x)$, $sen(x)$ y $tan(x)$"
      ]
    },
    {
      "cell_type": "code",
      "metadata": {
        "id": "UUcfkDvwjCiU",
        "colab": {
          "base_uri": "https://localhost:8080/",
          "height": 282
        },
        "outputId": "ec4a6979-7f0b-48fb-9712-cdb4295ab590"
      },
      "source": [
        "def f(x):\n",
        "  return np.sin(x)       #Ecuacion \n",
        "\n",
        "res = 100         #Resolucion de la grafica\n",
        "\n",
        "x = np.linspace(-10, 10,num=res)   #Genera grid\n",
        "\n",
        "y = f(x)\n",
        "\n",
        "fig, ax = plt.subplots()  #Genera area de dibujo\n",
        "\n",
        "ax.plot(x,y)\n",
        "ax.grid()\n",
        "        \n",
        "ax.axhline(y=0, color=\"r\")  #Dibuja linea de eje y\n",
        "ax.axvline(x=0, color=\"r\")  #Dibuja linea de eje x"
      ],
      "execution_count": null,
      "outputs": [
        {
          "output_type": "execute_result",
          "data": {
            "text/plain": [
              "<matplotlib.lines.Line2D at 0x7f4aa9b95ed0>"
            ]
          },
          "metadata": {
            "tags": []
          },
          "execution_count": 40
        },
        {
          "output_type": "display_data",
          "data": {
            "image/png": "[encoded data removed]",
            "text/plain": [
              "<Figure size 432x288 with 1 Axes>"
            ]
          },
          "metadata": {
            "tags": [],
            "needs_background": "light"
          }
        }
      ]
    },
    {
      "cell_type": "markdown",
      "metadata": {
        "id": "fD5TzUHQz3L0"
      },
      "source": [
        "### Función exponencial\n",
        "\n",
        "Tienen la forma de $$f(x)=a^x$$ donde la base $a$ es una constante positiva. Un gran ejemplo de una función exponencial es usando la base como el número de euler:\n",
        "\n",
        "$$f(x)=e^x$$"
      ]
    },
    {
      "cell_type": "code",
      "metadata": {
        "id": "Ax2KATylz7SQ",
        "colab": {
          "base_uri": "https://localhost:8080/",
          "height": 282
        },
        "outputId": "eaccfcbf-6744-4104-9e54-aee6201d085a"
      },
      "source": [
        "def f(x):\n",
        "  return np.e**x       #Ecuacion \n",
        "\n",
        "res = 1000         #Resolucion de la grafica\n",
        "\n",
        "x = np.linspace(-1, 1,num=res)   #Genera grid\n",
        "\n",
        "y = f(x)\n",
        "\n",
        "fig, ax = plt.subplots()  #Genera area de dibujo\n",
        "\n",
        "ax.plot(x,y)\n",
        "ax.grid()\n",
        "        \n",
        "ax.axhline(y=0, color=\"r\")  #Dibuja linea de eje y\n",
        "ax.axvline(x=0, color=\"r\")  #Dibuja linea de eje x"
      ],
      "execution_count": null,
      "outputs": [
        {
          "output_type": "execute_result",
          "data": {
            "text/plain": [
              "<matplotlib.lines.Line2D at 0x7f4a9feaef10>"
            ]
          },
          "metadata": {
            "tags": []
          },
          "execution_count": 45
        },
        {
          "output_type": "display_data",
          "data": {
            "image/png": "[encoded data removed]",
            "text/plain": [
              "<Figure size 432x288 with 1 Axes>"
            ]
          },
          "metadata": {
            "tags": [],
            "needs_background": "light"
          }
        }
      ]
    },
    {
      "cell_type": "markdown",
      "metadata": {
        "id": "sCuI2UVA046t"
      },
      "source": [
        "### Función logaritmo\n",
        "\n",
        "El logaritmo está definido por la **realación**:\n",
        "\n",
        "$$log_{b}(x) = n \\Longleftrightarrow x=b^n$$ \n",
        "\n",
        "donde: \n",
        "\n",
        "\n",
        "\n",
        "*   $b$ es la base.\n",
        "*   $n$ es el exponente al que está elevado la base.\n",
        "*   $x$ es el resultado de elevar la base $b$ al exponente $n$\n",
        "\n",
        "**Ejemplo:**\n",
        "\n",
        "Teniendo b=2 y n=8, entonces:\n",
        "\n",
        "$$2^8=256$$\n",
        "\n",
        "Por lo que $x=256$. Calculando el logaritmo base 2 de $x$ es:\n",
        "\n",
        "$$log_{2}(256) = 8$$\n",
        "\n",
        "\n",
        "\n"
      ]
    },
    {
      "cell_type": "code",
      "metadata": {
        "id": "e2HWt9k746Un",
        "colab": {
          "base_uri": "https://localhost:8080/",
          "height": 282
        },
        "outputId": "05b95ec0-5147-4791-cd02-9afb271621ce"
      },
      "source": [
        "def f(x):\n",
        "  return np.log2(x)       #Ecuacion \n",
        "\n",
        "res = 1000         #Resolucion de la grafica\n",
        "\n",
        "x = np.linspace(0.01, 2, num=res)   #Genera grid\n",
        "\n",
        "y = f(x)\n",
        "\n",
        "fig, ax = plt.subplots()  #Genera area de dibujo\n",
        "\n",
        "ax.plot(x,y)\n",
        "ax.grid()\n",
        "        \n",
        "ax.axhline(y=0, color=\"r\")  #Dibuja linea de eje y\n",
        "ax.axvline(x=0, color=\"r\")  #Dibuja linea de eje x"
      ],
      "execution_count": null,
      "outputs": [
        {
          "output_type": "execute_result",
          "data": {
            "text/plain": [
              "<matplotlib.lines.Line2D at 0x7f4aa0be37d0>"
            ]
          },
          "metadata": {
            "tags": []
          },
          "execution_count": 46
        },
        {
          "output_type": "display_data",
          "data": {
            "image/png": "[encoded data removed]",
            "text/plain": [
              "<Figure size 432x288 with 1 Axes>"
            ]
          },
          "metadata": {
            "tags": [],
            "needs_background": "light"
          }
        }
      ]
    },
    {
      "cell_type": "markdown",
      "metadata": {
        "id": "6Rz2Ofe_8zPM"
      },
      "source": [
        "# Función seccionada\n",
        "\n",
        "Son funciones que tienen diferentes valores definidos por un intervalo. Por ejemplo la función escalón de Heaviside: \n",
        "\n",
        "$$H(x) = \n",
        "     \\begin{cases}\n",
        "        0, &\\quad \\text{para, } x < 0 \\\\\n",
        "        1,  &\\quad\\text{para. } x \\ge 0 \\\\\n",
        "     \\end{cases}\n",
        "$$"
      ]
    },
    {
      "cell_type": "code",
      "metadata": {
        "id": "aWvsXZDzLl0r",
        "colab": {
          "base_uri": "https://localhost:8080/",
          "height": 265
        },
        "outputId": "ee27813d-39fe-49bd-df40-2d052d856413"
      },
      "source": [
        "def H(x):\n",
        "  y = np.zeros(len(x))\n",
        "  for idx, x in enumerate(x):\n",
        "    if x >= 0:\n",
        "      y[idx] = 1.0\n",
        "  return y       #Ecuacion \n",
        "\n",
        "res = 1000         #Resolucion de la grafica\n",
        "\n",
        "x = np.linspace(-10, 10, num=res)   #Genera grid\n",
        "\n",
        "y = H(x)\n",
        "\n",
        "fig, ax = plt.subplots()  #Genera area de dibujo\n",
        "       \n",
        "ax.axhline(y=0, color=\"r\")  #Dibuja linea de eje y\n",
        "ax.axvline(x=0, color=\"r\")  #Dibuja linea de eje x\n",
        "\n",
        "ax.plot(x,y)\n",
        "ax.grid()\n",
        " "
      ],
      "execution_count": null,
      "outputs": [
        {
          "output_type": "display_data",
          "data": {
            "image/png": "[encoded data removed]",
            "text/plain": [
              "<Figure size 432x288 with 1 Axes>"
            ]
          },
          "metadata": {
            "tags": [],
            "needs_background": "light"
          }
        }
      ]
    }
  ]
}